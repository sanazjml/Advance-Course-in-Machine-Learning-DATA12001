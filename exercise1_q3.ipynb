{
 "cells": [
  {
   "cell_type": "markdown",
   "metadata": {},
   "source": [
    "# Advanced Course in Machine Learning\n",
    "## Exercise Session 1\n",
    "\n",
    "\n",
    "<span style=\"color:blue\">**Sanaz Jamalzadeh**</span>"
   ]
  },
  {
   "cell_type": "markdown",
   "metadata": {},
   "source": [
    "## 3. Eigen-value decomposition (programming exercise)"
   ]
  },
  {
   "cell_type": "code",
   "execution_count": 7,
   "metadata": {},
   "outputs": [],
   "source": [
    "import numpy as np\n",
    "import pandas as pd\n",
    "import matplotlib.pyplot as plt\n",
    "import seaborn as sns"
   ]
  },
  {
   "cell_type": "markdown",
   "metadata": {},
   "source": [
    "#### Exercise 3.a"
   ]
  },
  {
   "cell_type": "code",
   "execution_count": 8,
   "metadata": {},
   "outputs": [
    {
     "data": {
      "text/html": [
       "<div>\n",
       "<style scoped>\n",
       "    .dataframe tbody tr th:only-of-type {\n",
       "        vertical-align: middle;\n",
       "    }\n",
       "\n",
       "    .dataframe tbody tr th {\n",
       "        vertical-align: top;\n",
       "    }\n",
       "\n",
       "    .dataframe thead th {\n",
       "        text-align: right;\n",
       "    }\n",
       "</style>\n",
       "<table border=\"1\" class=\"dataframe\">\n",
       "  <thead>\n",
       "    <tr style=\"text-align: right;\">\n",
       "      <th></th>\n",
       "      <th>0</th>\n",
       "      <th>1</th>\n",
       "      <th>2</th>\n",
       "      <th>3</th>\n",
       "      <th>4</th>\n",
       "    </tr>\n",
       "  </thead>\n",
       "  <tbody>\n",
       "    <tr>\n",
       "      <th>0</th>\n",
       "      <td>-0.235</td>\n",
       "      <td>-0.671</td>\n",
       "      <td>-1.056</td>\n",
       "      <td>-0.960</td>\n",
       "      <td>-0.429</td>\n",
       "    </tr>\n",
       "    <tr>\n",
       "      <th>1</th>\n",
       "      <td>-0.080</td>\n",
       "      <td>0.202</td>\n",
       "      <td>0.554</td>\n",
       "      <td>0.124</td>\n",
       "      <td>-0.280</td>\n",
       "    </tr>\n",
       "    <tr>\n",
       "      <th>2</th>\n",
       "      <td>-0.134</td>\n",
       "      <td>-0.217</td>\n",
       "      <td>-0.164</td>\n",
       "      <td>0.160</td>\n",
       "      <td>0.338</td>\n",
       "    </tr>\n",
       "    <tr>\n",
       "      <th>3</th>\n",
       "      <td>0.156</td>\n",
       "      <td>0.048</td>\n",
       "      <td>0.291</td>\n",
       "      <td>0.237</td>\n",
       "      <td>0.245</td>\n",
       "    </tr>\n",
       "    <tr>\n",
       "      <th>4</th>\n",
       "      <td>-0.022</td>\n",
       "      <td>0.092</td>\n",
       "      <td>0.075</td>\n",
       "      <td>-0.083</td>\n",
       "      <td>-0.198</td>\n",
       "    </tr>\n",
       "    <tr>\n",
       "      <th>...</th>\n",
       "      <td>...</td>\n",
       "      <td>...</td>\n",
       "      <td>...</td>\n",
       "      <td>...</td>\n",
       "      <td>...</td>\n",
       "    </tr>\n",
       "    <tr>\n",
       "      <th>195</th>\n",
       "      <td>-0.513</td>\n",
       "      <td>-0.216</td>\n",
       "      <td>-0.477</td>\n",
       "      <td>-0.077</td>\n",
       "      <td>0.012</td>\n",
       "    </tr>\n",
       "    <tr>\n",
       "      <th>196</th>\n",
       "      <td>1.779</td>\n",
       "      <td>1.243</td>\n",
       "      <td>2.056</td>\n",
       "      <td>1.055</td>\n",
       "      <td>0.428</td>\n",
       "    </tr>\n",
       "    <tr>\n",
       "      <th>197</th>\n",
       "      <td>0.141</td>\n",
       "      <td>-0.133</td>\n",
       "      <td>-0.318</td>\n",
       "      <td>0.118</td>\n",
       "      <td>0.044</td>\n",
       "    </tr>\n",
       "    <tr>\n",
       "      <th>198</th>\n",
       "      <td>-0.173</td>\n",
       "      <td>-0.484</td>\n",
       "      <td>-0.561</td>\n",
       "      <td>-0.439</td>\n",
       "      <td>-0.047</td>\n",
       "    </tr>\n",
       "    <tr>\n",
       "      <th>199</th>\n",
       "      <td>0.057</td>\n",
       "      <td>0.286</td>\n",
       "      <td>0.457</td>\n",
       "      <td>0.057</td>\n",
       "      <td>-0.312</td>\n",
       "    </tr>\n",
       "  </tbody>\n",
       "</table>\n",
       "<p>200 rows × 5 columns</p>\n",
       "</div>"
      ],
      "text/plain": [
       "         0      1      2      3      4\n",
       "0   -0.235 -0.671 -1.056 -0.960 -0.429\n",
       "1   -0.080  0.202  0.554  0.124 -0.280\n",
       "2   -0.134 -0.217 -0.164  0.160  0.338\n",
       "3    0.156  0.048  0.291  0.237  0.245\n",
       "4   -0.022  0.092  0.075 -0.083 -0.198\n",
       "..     ...    ...    ...    ...    ...\n",
       "195 -0.513 -0.216 -0.477 -0.077  0.012\n",
       "196  1.779  1.243  2.056  1.055  0.428\n",
       "197  0.141 -0.133 -0.318  0.118  0.044\n",
       "198 -0.173 -0.484 -0.561 -0.439 -0.047\n",
       "199  0.057  0.286  0.457  0.057 -0.312\n",
       "\n",
       "[200 rows x 5 columns]"
      ]
     },
     "execution_count": 8,
     "metadata": {},
     "output_type": "execute_result"
    }
   ],
   "source": [
    "data_X = pd.read_csv(\"ex_1_data.csv\", header=None)\n",
    "data_X"
   ]
  },
  {
   "cell_type": "markdown",
   "metadata": {},
   "source": [
    "#### For data set X --> N = 200 and D =5"
   ]
  },
  {
   "cell_type": "markdown",
   "metadata": {},
   "source": [
    "#### Exercise 3.b"
   ]
  },
  {
   "cell_type": "code",
   "execution_count": 9,
   "metadata": {},
   "outputs": [
    {
     "name": "stdout",
     "output_type": "stream",
     "text": [
      "\n",
      "The covariance matrix equals: \n",
      "\n",
      "          0         1         2         3         4\n",
      "0  0.408549  0.236535  0.502366  0.304702  0.174483\n",
      "1  0.236535  0.252841  0.465531  0.306768  0.108594\n",
      "2  0.502366  0.465531  0.926864  0.635711  0.272427\n",
      "3  0.304702  0.306768  0.635711  0.571994  0.301852\n",
      "4  0.174483  0.108594  0.272427  0.301852  0.237854\n",
      "\n",
      " eigenvalues in descendig order are: \n",
      "\n",
      "    eigVals\n",
      "0  2.012650\n",
      "1  0.222862\n",
      "2  0.142902\n",
      "3  0.010429\n",
      "4  0.009259\n"
     ]
    }
   ],
   "source": [
    "# Covariance Matrix\n",
    "cov_mat_X = data_X.cov()\n",
    "print('\\nThe covariance matrix equals: \\n')\n",
    "print(cov_mat_X)\n",
    "\n",
    "# Compute eigenvalues and eigenvectorors\n",
    "eigVal, eigVec = np.linalg.eig(cov_mat_X)\n",
    "eigVals_ = pd.DataFrame(eigVal, columns=['eigVals'])\n",
    "eigVecs_ = pd.DataFrame(eigVec)\n",
    "\n",
    "\n",
    "# Print eigenvalues in descending order\n",
    "eigVals_ = eigVals_.sort_values('eigVals', ascending=False)\n",
    "print('\\n eigenvalues in descendig order are: \\n')\n",
    "print(eigVals_)"
   ]
  },
  {
   "cell_type": "markdown",
   "metadata": {},
   "source": [
    "#### Exercise 3.c"
   ]
  },
  {
   "cell_type": "code",
   "execution_count": 10,
   "metadata": {},
   "outputs": [
    {
     "data": {
      "image/png": "[encoded data removed]",
      "text/plain": [
       "<Figure size 432x288 with 1 Axes>"
      ]
     },
     "metadata": {
      "needs_background": "light"
     },
     "output_type": "display_data"
    }
   ],
   "source": [
    "eigVecs_ = eigVecs_.transpose()\n",
    "eigVecs_ = eigVecs_.reindex(eigVals_.index)\n",
    "eigVecs_ = eigVecs_.reset_index(drop=True)\n",
    "\n",
    "# Project the two maximum eigenVals eigenVecs\n",
    "project = list()\n",
    "for i in range(len(eigVecs_.iloc[0])):\n",
    " project.append(pd.DataFrame(np.dot(eigVecs_.iloc[0:(i+1),:],data_X.transpose())))\n",
    "\n",
    "for i in range(len(project)):\n",
    "  project[i] = project[i].transpose()\n",
    "\n",
    "\n",
    "# Plot two max projections\n",
    "sns.scatterplot(x = project[4].iloc[:,0], y = project[4].iloc[:,1]).plot()\n",
    "plt.title('eigenvector projection')\n",
    "plt.xlabel('P1')\n",
    "plt.ylabel('P2')\n",
    "\n",
    "# Its better to have equall scaling for the axes\n",
    "plt.xlim(-5,5); \n",
    "plt.ylim(-5,5)\n",
    "plt.show()"
   ]
  },
  {
   "cell_type": "markdown",
   "metadata": {},
   "source": [
    "#### Exercise 3.d"
   ]
  },
  {
   "cell_type": "code",
   "execution_count": 11,
   "metadata": {},
   "outputs": [
    {
     "name": "stdout",
     "output_type": "stream",
     "text": [
      "[76.70497237116592, 32.355438425310766, 3.9179041657145457, 1.8425906022674972, 6.556759099102598e-27]\n"
     ]
    },
    {
     "data": {
      "image/png": "[encoded data removed]",
      "text/plain": [
       "<Figure size 432x288 with 1 Axes>"
      ]
     },
     "metadata": {
      "needs_background": "light"
     },
     "output_type": "display_data"
    }
   ],
   "source": [
    "#reconstruction error as a function of reduced dimentionality\n",
    "\n",
    "for i in range(len(project)):\n",
    " project[i] = pd.DataFrame(project[i], columns=None)\n",
    "\n",
    "#D = 5 in this data set\n",
    "\n",
    "#reconstructing the error from L=1 to L=5\n",
    "reconst_error = list()\n",
    "for i in range(len(eigVec)):\n",
    " reconst_error.append(np.dot(eigVecs_.iloc[0:(i+1),:].transpose(), project[i].transpose()).transpose())\n",
    "\n",
    "\n",
    "# Then we can calculate error in the matrix\n",
    "data_O = data_X.copy()\n",
    "loss = list()\n",
    "for r in reconst_error:\n",
    " loss_Mat = data_O.sub(r)\n",
    " loss_Mat = loss_Mat**2\n",
    " loss.append(loss_Mat.values.sum())\n",
    "\n",
    "# Plot the error as a function of reduced dimensionality L\n",
    "plt.plot( range(1,6), loss, marker='o', markerfacecolor='blue', markersize=6, color='magenta', linewidth=3)\n",
    "print(loss)\n",
    "plt.xlabel('Dims L')\n",
    "plt.ylabel('Reconstruction error')\n",
    "plt.show()\n"
   ]
  },
  {
   "cell_type": "markdown",
   "metadata": {},
   "source": [
    "#### About relation to the eigenvalues computed in step (b), I assume if we devide the reconstruction error by N, the results would be close to summing up the eigenvalues corresponding to the Lth eigenvectors that we are not including (in each step). Here is a simple calculation to demonstrate it better:"
   ]
  },
  {
   "cell_type": "code",
   "execution_count": 12,
   "metadata": {},
   "outputs": [
    {
     "name": "stdout",
     "output_type": "stream",
     "text": [
      "[0.3835248618558296, 0.16177719212655384, 0.019589520828572727, 0.009212953011337486, 3.2783795495512993e-29]\n"
     ]
    }
   ],
   "source": [
    "#N=200 compute average of loss\n",
    "N = 200\n",
    "loss_ave = [x / N for x in loss]\n",
    "print(loss_ave)"
   ]
  },
  {
   "cell_type": "code",
   "execution_count": 13,
   "metadata": {},
   "outputs": [
    {
     "name": "stdout",
     "output_type": "stream",
     "text": [
      "sum of array without L1 the sum is 0.3854519999999999\n",
      "sum of array without L2 the sum is 0.1625899999999998\n",
      "sum of array without L3 the sum is 0.019687999999999928\n",
      "sum of array without L4 the sum is 0.009259000000000128\n",
      "sum of array without L5 the sum is 0.0\n"
     ]
    }
   ],
   "source": [
    "#sum up the eigenvalues corresponding to the dimensions that were dropped somehow. \n",
    "list_eigVal = [2.012650, 0.222862, 0.142902, 0.010429, 0.009259]\n",
    "array_sum = sum(list_eigVal)\n",
    "\n",
    "print('sum of array without L1', 'the sum is', array_sum - list_eigVal[0])\n",
    "print('sum of array without L2','the sum is', array_sum - (list_eigVal[0]+ list_eigVal[1]))\n",
    "print('sum of array without L3','the sum is', array_sum - (list_eigVal[0]+ list_eigVal[1] + list_eigVal[2]))\n",
    "print('sum of array without L4','the sum is', array_sum - (list_eigVal[0]+ list_eigVal[1] + list_eigVal[2] + list_eigVal[3]))\n",
    "print('sum of array without L5','the sum is', array_sum - (list_eigVal[0]+ list_eigVal[1] + list_eigVal[2] + list_eigVal[3] +list_eigVal[4]))"
   ]
  },
  {
   "cell_type": "code",
   "execution_count": null,
   "metadata": {},
   "outputs": [],
   "source": []
  }
 ],
 "metadata": {
  "kernelspec": {
   "display_name": "Python 3",
   "language": "python",
   "name": "python3"
  },
  "language_info": {
   "codemirror_mode": {
    "name": "ipython",
    "version": 3
   },
   "file_extension": ".py",
   "mimetype": "text/x-python",
   "name": "python",
   "nbconvert_exporter": "python",
   "pygments_lexer": "ipython3",
   "version": "3.7.4"
  }
 },
 "nbformat": 4,
 "nbformat_minor": 2
}
